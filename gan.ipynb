{
 "cells": [
  {
   "cell_type": "code",
   "execution_count": 1,
   "id": "cd64bf92",
   "metadata": {},
   "outputs": [],
   "source": [
    "import torch\n",
    "import torch.nn as nn\n",
    "import torch.optim as optim\n",
    "import torchvision\n",
    "import torchvision.transforms as transforms\n",
    "import torchvision.datasets as datasets\n",
    "from torch.utils.data import DataLoader\n",
    "import matplotlib.pyplot as plt\n",
    "import numpy as np\n"
   ]
  },
  {
   "cell_type": "markdown",
   "id": "bddacc95",
   "metadata": {},
   "source": [
    " The Generator Network (G) 🎨<br>\n",
    "The Generator takes a random noise vector (latent vector) as input and tries to transform it into something that resembles the real data (e.g., an image)."
   ]
  },
  {
   "cell_type": "code",
   "execution_count": null,
   "id": "824eb45e",
   "metadata": {},
   "outputs": [],
   "source": [
    "class Generator(nn.Module):\n",
    "    def __init__(self, latent_dim , img_shape):\n",
    "        super(Generator , self).__init__()\n",
    "        self.img_shape = img_shape #(channels , height , width)\n",
    "\n",
    "        self.model = nn.functional(\n",
    "            nn.Linear(latent_dim , 128),\n",
    "            nn.LeakyReLU(0.2 , inplace=True),\n",
    "\n",
    "            nn.Linear(128 , 256),\n",
    "            nn.BatchNorm2d(256),\n",
    "            nn.LeakyReLU(0.2 , inplace=True),\n",
    "\n",
    "            nn.Linear(256 , 512),\n",
    "            nn.BatchNorm2d(512),\n",
    "            nn.LeakyReLU(0.2, inplace=True),\n",
    "\n",
    "            nn.Linear(512 , int(np.prod(img_shape))), #np.prod is for multiplication\n",
    "            nn.Tanh() #values between -1 and 1\n",
    "        )\n",
    "\n",
    "    def forward(self, z):\n",
    "        # considering z as the input noise vector (batch_size , latent_dim)\n",
    "        img = self.model(z)\n",
    "        #reshaping the output to img shape\n",
    "        img = img.view(img.size(0) , *self.img_shape) # * symbol unpacks the tuple\n",
    "        return img"
   ]
  }
 ],
 "metadata": {
  "kernelspec": {
   "display_name": "Python 3",
   "language": "python",
   "name": "python3"
  },
  "language_info": {
   "codemirror_mode": {
    "name": "ipython",
    "version": 3
   },
   "file_extension": ".py",
   "mimetype": "text/x-python",
   "name": "python",
   "nbconvert_exporter": "python",
   "pygments_lexer": "ipython3",
   "version": "3.10.16"
  }
 },
 "nbformat": 4,
 "nbformat_minor": 5
}
